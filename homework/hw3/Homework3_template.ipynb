{
 "cells": [
  {
   "cell_type": "markdown",
   "metadata": {},
   "source": [
    "# Import packages"
   ]
  },
  {
   "cell_type": "code",
   "execution_count": 1,
   "metadata": {},
   "outputs": [],
   "source": [
    "import pickle\n",
    "import numpy as np\n",
    "import matplotlib.pyplot as plt\n",
    "import seaborn as sns\n",
    "from sklearn.datasets import make_classification\n",
    "from sklearn.neighbors import KNeighborsClassifier\n",
    "from sklearn.linear_model import LogisticRegression\n",
    "from sklearn.tree import DecisionTreeClassifier\n",
    "from sklearn.model_selection import train_test_split, KFold\n",
    "from sklearn.metrics import f1_score, accuracy_score, confusion_matrix"
   ]
  },
  {
   "cell_type": "markdown",
   "metadata": {},
   "source": [
    "# Exercise 1: Template for model selection of a Ridge model on a list of hyper-parameters instances with KFold cross-validation"
   ]
  },
  {
   "cell_type": "code",
   "execution_count": null,
   "metadata": {},
   "outputs": [],
   "source": [
    "### Split+shuffle X and Y into k=num_folds different folds:\n",
    "def KFold_split(X, Y, num_folds, seed):\n",
    "    KFold_splitter = KFold(n_splits=num_folds, shuffle=True, random_state=seed)\n",
    "    X_train_folds = []\n",
    "    X_val_folds = []\n",
    "    Y_train_folds = []\n",
    "    Y_val_folds = []\n",
    "    for (kth_fold_train_idxs, kth_fold_val_idxs) in KFold_splitter.split(X, Y):\n",
    "        X_train_folds.append(X[kth_fold_train_idxs])\n",
    "        X_val_folds.append(...)\n",
    "        Y_train_folds.append(...)\n",
    "        Y_val_folds.append(...)\n",
    "    return X_train_folds, X_val_folds, Y_train_folds, Y_val_folds"
   ]
  },
  {
   "cell_type": "code",
   "execution_count": null,
   "metadata": {},
   "outputs": [],
   "source": [
    "### Select a Ridge model on a list of hyper-parameters instances, via Kfold cross-validation:\n",
    "def KFold_model_selection(X, Y, hyper_parameters_instances, num_folds, seed):\n",
    "    # Extract a test set:\n",
    "    X_train_val, X_test, Y_train_val, Y_test = ...\n",
    "    # Extract train and validation folds:\n",
    "    X_train_folds, X_val_folds, Y_train_folds, Y_val_folds = ...\n",
    "    # For each hyper-parameter instance, do KFold cross validation:\n",
    "    mean_val_MSEs = []\n",
    "    for hyper_parameters_instance in hyper_parameters_instances:\n",
    "        print(\"\\nNow preprocessing hyper-parameter instance\", hyper_parameters_instance)\n",
    "        mean_val_MSE = ...\n",
    "        print(\"Mean validation MSE:\", mean_val_MSE)\n",
    "        mean_val_MSEs.append(mean_val_MSE)\n",
    "    # The hyper-parameter instance with the smallest mean validation MSE is our model of choice:\n",
    "    best_instance_idx = ...\n",
    "    best_hyper_parameters_instance = hyper_parameters_instances[best_instance_idx]\n",
    "    print(\"\\n\\nBest hyper-parameter instance:\", best_hyper_parameters_instance)\n",
    "    # Train the best model on the whole train set then evaluate it on the test set:\n",
    "    best_model_test_MSE = ...\n",
    "    print(\"Test MSE:\", best_model_test_MSE)"
   ]
  },
  {
   "cell_type": "code",
   "execution_count": null,
   "metadata": {},
   "outputs": [],
   "source": [
    "### KFold cross-validation of a Ridge model with given hyper-parameters:\n",
    "def perform_KFold_CV(X_train_folds, X_val_folds, Y_train_folds, Y_val_folds, degree, regularization):\n",
    "    val_fold_MSEs = []\n",
    "    # For each fold, assess a surrogate model with fixed hyper-parameters:\n",
    "    cmpt = 0\n",
    "    for X_train_fold, X_val_fold, Y_train_fold, Y_val_fold in zip(X_train_folds, X_val_folds, Y_train_folds, Y_val_folds):\n",
    "        val_fold_MSE = ...\n",
    "        cmpt += 1\n",
    "        print(\"Surrogate model\", str(cmpt) + \"/\" + str(len(X_val_folds)), \"validation MSE:\", val_fold_MSE)\n",
    "        val_fold_MSEs.append(val_fold_MSE)\n",
    "    # Compute the mean validation MSE between all the folds:\n",
    "    mean_val_MSE = ...\n",
    "    return mean_val_MSE"
   ]
  },
  {
   "cell_type": "code",
   "execution_count": null,
   "metadata": {},
   "outputs": [],
   "source": [
    "### Fit and evaluate a Ridge model with given hyper-parameters:\n",
    "def assess_Ridge(X_train, X_test, Y_train, Y_test, degree, regularization):\n",
    "    # Build the polynomial features:\n",
    "    poly_features = PolynomialFeatures(degree=degree)\n",
    "    X_train_poly = ...\n",
    "    X_test_poly = ...\n",
    "    # Fit the polynomial features with a Ridge model:\n",
    "    model = Ridge(alpha=regularization)\n",
    "    model.fit(X_train_poly, Y_train)\n",
    "    # Evaluate the Ridge model on the test set:\n",
    "    Y_test_pred = model.predict(X_test_poly)\n",
    "    test_MSE = ...\n",
    "    return test_MSE"
   ]
  },
  {
   "cell_type": "markdown",
   "metadata": {},
   "source": [
    "# Exercise 2 - 1): Choosing the right metrics when dealing with unbalanced data"
   ]
  },
  {
   "cell_type": "code",
   "execution_count": null,
   "metadata": {},
   "outputs": [],
   "source": [
    "# Fix random seed for reproducibility:\n",
    "seed = 666\n",
    "# Set up seaborn (for heatmaps):\n",
    "sns.set()\n",
    "\n",
    "### Train and evaluate a K-NN with K=10 on randomly generated binary dataset, with different ratios between \n",
    "### the two classes. Use both accuracy and F1 score metrics, plus the confusion matrix:\n",
    "ratios = [0.6, 0.75, 0.9, 0.95, 0.98, 0.99]\n",
    "test_accuracies = []\n",
    "test_f1_scores = []\n",
    "test_confusion_matrices = []\n",
    "for ratio in ratios:\n",
    "    X, Y = make_classification(n_samples=10000, \n",
    "                               n_classes=2, \n",
    "                               n_features=2, \n",
    "                               n_redundant=0, \n",
    "                               n_repeated=0, \n",
    "                               weights=[ratio],\n",
    "                               flip_y=0, \n",
    "                               random_state=seed)\n",
    "    \n",
    "    ...\n",
    "\n",
    "for test_confusion_matrix, ratio, idx in zip(test_confusion_matrices, ratios, range(len(ratios))):\n",
    "    plt.figure(1, figsize=(15, 12))\n",
    "    plt.subplot(3, 3, idx+1)\n",
    "    plt.title(\"Confusion matrix, 1st class ratio = \" + str(ratio))\n",
    "    sns.heatmap(data=test_confusion_matrix.round(2), annot=True, fmt='d', cmap=sns.color_palette(\"RdBu_r\", 1000))\n",
    "plt.figure(1)\n",
    "plt.suptitle(\"Assessment of a K-NN model (K=10) on randomly generated binary datasets, with different ratios between the two classes\")\n",
    "plt.subplot(3, 3, 8)\n",
    "plt.title(\"Test accuracies + test F1-scores of minority class as functions of the 1st class ratio\")\n",
    "plt.plot(ratios, test_accuracies, c='g')\n",
    "plt.plot(ratios, test_f1_scores, c='r')\n",
    "plt.legend([\"Accuracy\", \"F1-score\"], loc='best')\n",
    "plt.xlabel('1st class ratio')\n",
    "plt.ylabel('Quality measures')\n",
    "plt.show()"
   ]
  },
  {
   "cell_type": "markdown",
   "metadata": {},
   "source": [
    "# Exercise 2 - 2): Model selection with Kfold cross-validation for classification on unbalanced data"
   ]
  },
  {
   "cell_type": "code",
   "execution_count": null,
   "metadata": {},
   "outputs": [],
   "source": [
    "### Split+shuffle X and Y into k=num_folds different folds:\n",
    "def KFold_split(X, Y, num_folds, seed):\n",
    "    ...\n",
    "\n",
    "### Select a model via Kfold cross-validation:\n",
    "def KFold_model_selection(X, Y, models, num_folds, seed):\n",
    "    ...\n",
    "\n",
    "### KFold cross-validation of a model:\n",
    "def perform_KFold_CV(X_train_folds, X_val_folds, Y_train_folds, Y_val_folds, model_idx):\n",
    "    ...\n",
    "\n",
    "### Fit and evaluate a model:\n",
    "def assess_model(X_train, X_test, Y_train, Y_test, model_idx):\n",
    "    ..."
   ]
  },
  {
   "cell_type": "code",
   "execution_count": null,
   "metadata": {},
   "outputs": [],
   "source": [
    "### Model selection of a classification model on unbalanced data with KFold cross-validation:\n",
    "# Load an unbalanced binary dataset:\n",
    "with open('custom_unbalanced_dataset.pickle', 'rb') as unbalanced_dataset:\n",
    "    X, Y = pickle.load(unbalanced_dataset)\n",
    "    # Models to be cross-validated:\n",
    "    models = {0: \"K-NN\",\n",
    "              1: \"Logistic regression\",\n",
    "              2: \"Decision Tree\"}\n",
    "    # Select model with KFold cross-validation (use 10 folds):\n",
    "    ..."
   ]
  }
 ],
 "metadata": {
  "kernelspec": {
   "name": "Python 3.8.5 64-bit",
   "display_name": "Python 3.8.5 64-bit",
   "metadata": {
    "interpreter": {
     "hash": "aee8b7b246df8f9039afb4144a1f6fd8d2ca17a180786b69acc140d282b71a49"
    }
   }
  },
  "language_info": {
   "codemirror_mode": {
    "name": "ipython",
    "version": 3
   },
   "file_extension": ".py",
   "mimetype": "text/x-python",
   "name": "python",
   "nbconvert_exporter": "python",
   "pygments_lexer": "ipython3",
   "version": "3.8.5-final"
  }
 },
 "nbformat": 4,
 "nbformat_minor": 2
}